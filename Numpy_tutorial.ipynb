{
 "cells": [
  {
   "cell_type": "markdown",
   "id": "dae51e13",
   "metadata": {},
   "source": [
    "### NumPy Library"
   ]
  },
  {
   "cell_type": "markdown",
   "id": "396846f3",
   "metadata": {},
   "source": [
    "* NumPy stands for Numerical Python.\n",
    "* NumPy is a standard library used for matrix application, multidimensional problematic applications etc."
   ]
  },
  {
   "cell_type": "markdown",
   "id": "3cac8936",
   "metadata": {},
   "source": [
    "* NumPy is a python library used for working with arrays.\n",
    "* It is also has functions for working in domain of linear algebra , fourier transform and matrices.\n",
    "* Numpy aims to provide an array object which is much faster than traditional python.\n",
    "* Array : An array is a datastructure that stores a collection of elements, typically of the same type , the elements in array are indexed, which means elements have specific positions or \"index\" that allows you to access it directly."
   ]
  },
  {
   "cell_type": "markdown",
   "id": "c0dce144",
   "metadata": {},
   "source": [
    "***Import Library***\n",
    "\n",
    "To utilize NumPy we need to import library and mention it with an alias."
   ]
  },
  {
   "cell_type": "code",
   "execution_count": 2,
   "id": "b2afbd35-fdc7-4bd2-9dff-320d3ccd1cb9",
   "metadata": {},
   "outputs": [],
   "source": [
    "import numpy as np"
   ]
  },
  {
   "cell_type": "code",
   "execution_count": 3,
   "id": "bfe780fc-c265-476f-831c-44c2b19a7b86",
   "metadata": {},
   "outputs": [
    {
     "name": "stdout",
     "output_type": "stream",
     "text": [
      "[1 2 3 4 5]\n",
      "<class 'numpy.ndarray'>\n"
     ]
    }
   ],
   "source": [
    "arr = np.array([1, 2, 3, 4, 5])\n",
    "print(arr)  # [1 2 3 4 5]\n",
    "print(type(arr))"
   ]
  },
  {
   "cell_type": "markdown",
   "id": "64acef2f",
   "metadata": {},
   "source": [
    "* Array are considered of different types such as :\n",
    "1. 0-D array : 0-D array or scalars are the elements in an array. each value in array is a 0-D array.\n",
    "\n",
    "2. 1-D array : 1-D array are the elements which are having only one diemnsion and these are common arrays.\n",
    "\n",
    "3. 2-D array : 2-D array are the elements which represents matrix having both dimensions.\n",
    "\n",
    "4. 3-D array : 3-D array are the array which has @-D matrix as its elements and follow #rd order tensor."
   ]
  },
  {
   "cell_type": "code",
   "execution_count": 8,
   "id": "cd59c1a4",
   "metadata": {},
   "outputs": [
    {
     "name": "stdout",
     "output_type": "stream",
     "text": [
      "42\n",
      "----------------------------\n",
      "[1 2 3 4 5 6]\n",
      "----------------------------\n",
      "[[1 2 3]\n",
      " [4 5 6]]\n",
      "----------------------------\n",
      "[[[ 1  2  3]\n",
      "  [ 4  5  6]]\n",
      "\n",
      " [[ 7  8  9]\n",
      "  [10 11 12]]]\n"
     ]
    }
   ],
   "source": [
    "#1\n",
    "arr = np.array(42)\n",
    "print(arr)\n",
    "\n",
    "print(\"----------------------------\")\n",
    "\n",
    "arr1 = np.array([1,2,3,4,5,6])\n",
    "print(arr1)\n",
    "\n",
    "print(\"----------------------------\")\n",
    "\n",
    "arr2 = np.array([[1,2,3],[4,5,6]])\n",
    "print(arr2)\n",
    "\n",
    "print(\"----------------------------\")\n",
    "\n",
    "arr3 = np.array([[[1,2,3],[4,5,6]],[[7,8,9],[10,11,12]]])\n",
    "print(arr3)"
   ]
  },
  {
   "cell_type": "markdown",
   "id": "9fc5c197",
   "metadata": {},
   "source": [
    "***No. of Dimensions in Array***"
   ]
  },
  {
   "cell_type": "markdown",
   "id": "03ae6a2c",
   "metadata": {},
   "source": [
    "* In NumPy we can know the dimensions of the array by providing a code \"ndim\" function."
   ]
  },
  {
   "cell_type": "code",
   "execution_count": 9,
   "id": "fd7f363d",
   "metadata": {},
   "outputs": [
    {
     "name": "stdout",
     "output_type": "stream",
     "text": [
      "0\n",
      "1\n",
      "2\n",
      "3\n"
     ]
    }
   ],
   "source": [
    "a = np.array(4)\n",
    "b = np.array([1,2,3])\n",
    "c = np.array([[1,2,3],[4,5,6]])\n",
    "d = np.array([[[1,2,3],[4,5,6]], [[7,8,9],[10,11,12]]])\n",
    "\n",
    "print(a.ndim)\n",
    "print(b.ndim)\n",
    "print(c.ndim)\n",
    "print(d.ndim)"
   ]
  },
  {
   "cell_type": "markdown",
   "id": "41683e7d",
   "metadata": {},
   "source": [
    "***Access Array Elements***"
   ]
  },
  {
   "cell_type": "markdown",
   "id": "1f9fe04b",
   "metadata": {},
   "source": [
    "* Array indexing means accessing the elements in array\n",
    "* We can access the elements in the array through providing an index number of the element."
   ]
  },
  {
   "cell_type": "code",
   "execution_count": 17,
   "id": "aec65467",
   "metadata": {},
   "outputs": [
    {
     "name": "stdout",
     "output_type": "stream",
     "text": [
      "1\n",
      "[1 2 3 4 5]\n",
      "[3 4]\n",
      "9\n",
      "[]\n"
     ]
    }
   ],
   "source": [
    "arr = np.array([1,2,3,4,5,6,7,8,9])\n",
    "print(arr[0])\n",
    "print(arr[0:5])\n",
    "print(arr[2:4])\n",
    "print(arr[-1])\n",
    "print(arr[-2:-5])"
   ]
  },
  {
   "cell_type": "code",
   "execution_count": 4,
   "id": "fd5fc960-8388-41b2-bfaa-b0e7610b4eca",
   "metadata": {},
   "outputs": [
    {
     "name": "stdout",
     "output_type": "stream",
     "text": [
      "[2 3]\n",
      "[1 2 3]\n",
      "[3 4 5]\n"
     ]
    }
   ],
   "source": [
    "print(arr[1:3]) \n",
    "print(arr[:3])  \n",
    "print(arr[2:])  "
   ]
  },
  {
   "cell_type": "markdown",
   "id": "55e75219",
   "metadata": {},
   "source": [
    "* To acces elements from 2-D array we can use comma to seperate integers representing the dimensions and index the element.\n",
    "* As it is in the table form with rows and columns we need to represent row index and then column index."
   ]
  },
  {
   "cell_type": "code",
   "execution_count": 24,
   "id": "cd7ec615",
   "metadata": {},
   "outputs": [
    {
     "name": "stdout",
     "output_type": "stream",
     "text": [
      "3\n",
      "5\n"
     ]
    }
   ],
   "source": [
    "arr = np.array([[1,2,3],[4,5,6]])\n",
    "print(arr[0,2])\n",
    "print(arr[1,1])"
   ]
  },
  {
   "cell_type": "code",
   "execution_count": 23,
   "id": "7fb3e365",
   "metadata": {},
   "outputs": [
    {
     "name": "stdout",
     "output_type": "stream",
     "text": [
      "5\n",
      "9\n"
     ]
    }
   ],
   "source": [
    "arr = np.array([[1,2,3,4,5], [6,7,8,9,10]])\n",
    "print(arr[0,4])\n",
    "print(arr[1,3])"
   ]
  },
  {
   "cell_type": "markdown",
   "id": "e8eba376",
   "metadata": {},
   "source": [
    "* To access elements from 3-D arrays we can use comma separated integers representing the dimensions and the index of the element."
   ]
  },
  {
   "cell_type": "code",
   "execution_count": 28,
   "id": "5f01af82",
   "metadata": {},
   "outputs": [
    {
     "name": "stdout",
     "output_type": "stream",
     "text": [
      "6\n",
      "12\n",
      "3\n",
      "9\n"
     ]
    }
   ],
   "source": [
    "arr = np.array([[[1, 2, 3], [4, 5, 6]], [[7, 8, 9], [10, 11, 12]]])\n",
    "print(arr[0,1,2])\n",
    "print(arr[1,1,2])\n",
    "print(arr[0,0,2])\n",
    "print(arr[1,0,2])"
   ]
  },
  {
   "cell_type": "markdown",
   "id": "869b4d44",
   "metadata": {},
   "source": [
    "* We can use the negative indexing to access an array from the end."
   ]
  },
  {
   "cell_type": "code",
   "execution_count": 34,
   "id": "8e00360e",
   "metadata": {},
   "outputs": [
    {
     "name": "stdout",
     "output_type": "stream",
     "text": [
      "14\n",
      "10\n"
     ]
    }
   ],
   "source": [
    "arr = np.array([2,4,6,8,10,12,14])\n",
    "print(arr[-1])\n",
    "print(arr[-3])"
   ]
  },
  {
   "cell_type": "code",
   "execution_count": 32,
   "id": "c49a5a1c",
   "metadata": {},
   "outputs": [
    {
     "name": "stdout",
     "output_type": "stream",
     "text": [
      "10\n",
      "4\n",
      "9\n"
     ]
    }
   ],
   "source": [
    "arr = np.array([[1,2,3,4,5], [6,7,8,9,10]])\n",
    "print(arr[1,-1])\n",
    "print(arr[0,-2])\n",
    "print(arr[1,-2])"
   ]
  },
  {
   "cell_type": "markdown",
   "id": "a32b2247",
   "metadata": {},
   "source": [
    "***Slicing an array***"
   ]
  },
  {
   "cell_type": "markdown",
   "id": "d05ea6bc",
   "metadata": {},
   "source": [
    "* Slicing in python means taking elements from one given index to another given index.\n",
    "* We pass slice instead of index like this: [start:end].\n",
    "* We can also define the step, like this: [start:end:step].\n",
    "* If we don't pass start its considered 0\n",
    "* If we don't pass end its considered length of array in that dimension\n",
    "* If we don't pass step its considered 1"
   ]
  },
  {
   "cell_type": "code",
   "execution_count": 45,
   "id": "6fbedeb8",
   "metadata": {},
   "outputs": [
    {
     "name": "stdout",
     "output_type": "stream",
     "text": [
      "[2 3]\n",
      "[3 4]\n",
      "[1 2 3 4 5 6]\n",
      "[1 2 3]\n",
      "[3 4 5 6 7]\n",
      "[1 2 3 4 5 6]\n",
      "[7]\n"
     ]
    }
   ],
   "source": [
    "arr = np.array([1, 2, 3, 4, 5, 6, 7])\n",
    "print(arr[1:3])\n",
    "print(arr[2:4])\n",
    "print(arr[0:6])\n",
    "print(arr[:3])\n",
    "print(arr[2:])\n",
    "print(arr[:-1])\n",
    "print(arr[-1: ])"
   ]
  },
  {
   "cell_type": "code",
   "execution_count": 51,
   "id": "8f77b83e",
   "metadata": {},
   "outputs": [
    {
     "name": "stdout",
     "output_type": "stream",
     "text": [
      "[2 4 6]\n",
      "[1 3 5]\n",
      "[1 3 5 7]\n",
      "[1 4 7]\n"
     ]
    }
   ],
   "source": [
    "print(arr[1:6:2])\n",
    "print(arr[0:6:2])\n",
    "print(arr[::2])\n",
    "print(arr[::3])"
   ]
  },
  {
   "cell_type": "code",
   "execution_count": 3,
   "id": "4661e5ce-3755-42ad-896d-c318f7f5d1d2",
   "metadata": {},
   "outputs": [],
   "source": [
    "arr1 = np.array([1, 2, 3])\n",
    "arr2 = np.array([4, 5, 6])"
   ]
  },
  {
   "cell_type": "markdown",
   "id": "95f591cf",
   "metadata": {},
   "source": [
    "***Converting Datatype of an Array***\n",
    "* The best way to change the data type of an existing array, is to make a copy of the array with the astype() method.\n",
    "\n",
    "* The astype() function creates a copy of the array, and allows you to specify the data type as a parameter."
   ]
  },
  {
   "cell_type": "code",
   "execution_count": 52,
   "id": "041407f2",
   "metadata": {},
   "outputs": [
    {
     "name": "stdout",
     "output_type": "stream",
     "text": [
      "[1 2 3]\n",
      "int32\n"
     ]
    }
   ],
   "source": [
    "arr = np.array([1.1, 2.2, 3.3])\n",
    "newarr = arr.astype(\"i\")\n",
    "print(newarr)\n",
    "print(newarr.dtype)"
   ]
  },
  {
   "cell_type": "code",
   "execution_count": 53,
   "id": "cdde0d2a",
   "metadata": {},
   "outputs": [
    {
     "name": "stdout",
     "output_type": "stream",
     "text": [
      "[1. 2. 3. 4. 5. 6.]\n",
      "float32\n"
     ]
    }
   ],
   "source": [
    "arr = np.array([1,2,3,4,5,6])\n",
    "newar = arr.astype(\"f\")\n",
    "print(newar)\n",
    "print(newar.dtype)"
   ]
  },
  {
   "cell_type": "code",
   "execution_count": 54,
   "id": "8bc5602d",
   "metadata": {},
   "outputs": [
    {
     "name": "stdout",
     "output_type": "stream",
     "text": [
      "[ True False  True]\n"
     ]
    }
   ],
   "source": [
    "import numpy as np\n",
    "arr = np.array([-1, 0, 1])\n",
    "newarr = arr.astype(bool)\n",
    "print(newarr)"
   ]
  },
  {
   "cell_type": "markdown",
   "id": "12f2f609",
   "metadata": {},
   "source": [
    "***Element wise calculation in NumPy***\n",
    "* In NumPy we can perform element calculations such as addition and substraction and other calculations."
   ]
  },
  {
   "cell_type": "code",
   "execution_count": 56,
   "id": "a30c430e-0e45-4072-af81-b0c400d3a6e9",
   "metadata": {},
   "outputs": [
    {
     "name": "stdout",
     "output_type": "stream",
     "text": [
      "[ 3  7 11]\n",
      "[ 2 12 30]\n"
     ]
    }
   ],
   "source": [
    "arr1 = np.array([2,4,6])\n",
    "arr2= np.array([1,3,5])\n",
    "print(arr1 + arr2)  \n",
    "print(arr1 * arr2)  "
   ]
  },
  {
   "cell_type": "markdown",
   "id": "89847798",
   "metadata": {},
   "source": [
    "* We can also perform the operations in other way such as below code."
   ]
  },
  {
   "cell_type": "code",
   "execution_count": 58,
   "id": "509e03d3-2845-4b48-9938-0549548f690c",
   "metadata": {},
   "outputs": [
    {
     "name": "stdout",
     "output_type": "stream",
     "text": [
      "[ 3  7 11]\n",
      "[ 2 12 30]\n",
      "[2.         1.33333333 1.2       ]\n"
     ]
    }
   ],
   "source": [
    "print(np.add(arr1, arr2))  \n",
    "print(np.multiply(arr1, arr2)) \n",
    "print(np.divide(arr1, arr2)) "
   ]
  },
  {
   "cell_type": "markdown",
   "id": "380ba267",
   "metadata": {},
   "source": [
    "***Dot Product Calculation***"
   ]
  },
  {
   "cell_type": "code",
   "execution_count": 59,
   "id": "1714c08f",
   "metadata": {},
   "outputs": [
    {
     "name": "stdout",
     "output_type": "stream",
     "text": [
      "[[19 22]\n",
      " [43 50]]\n"
     ]
    }
   ],
   "source": [
    "arr1 = np.array([[1, 2], [3, 4]])\n",
    "arr2 = np.array([[5, 6], [7, 8]])\n",
    "print(np.dot(arr1, arr2))  "
   ]
  },
  {
   "cell_type": "code",
   "execution_count": 62,
   "id": "b7f04c8a",
   "metadata": {},
   "outputs": [
    {
     "name": "stdout",
     "output_type": "stream",
     "text": [
      "[[ 9 12]\n",
      " [24 33]]\n"
     ]
    }
   ],
   "source": [
    "arr3 = np.array([[1,2],[4,5]])\n",
    "arr4 = np.array([[1,2],[4,5]])\n",
    "print(np.dot(arr3, arr4))"
   ]
  },
  {
   "cell_type": "markdown",
   "id": "27d7b60c",
   "metadata": {},
   "source": [
    "***Statistical Calculation***\n",
    "* Through NumPy we can also perform statistical caluclations wsuch as mean , meadian and standard deviation etc."
   ]
  },
  {
   "cell_type": "code",
   "execution_count": 9,
   "id": "517c1feb-7326-4b83-8dcc-fcef3d81b2a0",
   "metadata": {},
   "outputs": [
    {
     "name": "stdout",
     "output_type": "stream",
     "text": [
      "3.0\n",
      "3.0\n",
      "1.4142135623730951\n"
     ]
    }
   ],
   "source": [
    "arr = np.array([1, 2, 3, 4, 5])\n",
    "print(np.mean(arr))  \n",
    "print(np.median(arr))  \n",
    "print(np.std(arr))  "
   ]
  },
  {
   "cell_type": "code",
   "execution_count": 66,
   "id": "c657654d",
   "metadata": {},
   "outputs": [
    {
     "name": "stdout",
     "output_type": "stream",
     "text": [
      "17200.0\n",
      "10000.0\n",
      "17588.632692736523\n",
      "309360000.0\n"
     ]
    }
   ],
   "source": [
    "arr_large = np.array([1000, 5000, 10000, 20000, 50000])\n",
    "print(np.mean(arr_large))\n",
    "print(np.median(arr_large))\n",
    "print(np.std(arr_large))\n",
    "print(np.var(arr_large))"
   ]
  },
  {
   "cell_type": "code",
   "execution_count": 68,
   "id": "571d80ab",
   "metadata": {},
   "outputs": [
    {
     "name": "stdout",
     "output_type": "stream",
     "text": [
      "3.0\n",
      "0.0\n"
     ]
    }
   ],
   "source": [
    "arr_repeated = np.array([3] * 5)\n",
    "print(np.mean(arr_repeated))\n",
    "print(np.std(arr_repeated))"
   ]
  },
  {
   "cell_type": "code",
   "execution_count": 76,
   "id": "1b3776fc",
   "metadata": {},
   "outputs": [
    {
     "name": "stdout",
     "output_type": "stream",
     "text": [
      "0.1\n",
      "0.5\n",
      "0.2\n"
     ]
    }
   ],
   "source": [
    "arr_decimal = np.array([0.1, 0.2, 0.3, 0.4, 0.5])\n",
    "print(np.min(arr_decimal))\n",
    "print(np.max(arr_decimal))\n",
    "print(np.quantile(arr_decimal, 0.25))  # 25% quantile "
   ]
  },
  {
   "cell_type": "code",
   "execution_count": 75,
   "id": "b23baa7b",
   "metadata": {},
   "outputs": [
    {
     "name": "stdout",
     "output_type": "stream",
     "text": [
      "1.5\n",
      "0.2\n",
      "0.3\n",
      "0.4\n"
     ]
    }
   ],
   "source": [
    "arr_decimal = np.array([0.1, 0.2, 0.3, 0.4, 0.5])\n",
    "print(np.sum(arr_decimal))\n",
    "print(np.percentile(arr_decimal, 25))  # 25th percentile\n",
    "print(np.percentile(arr_decimal, 50))  # 50th percentile (median)\n",
    "print(np.percentile(arr_decimal, 75))  # 75th percentile\n"
   ]
  },
  {
   "cell_type": "markdown",
   "id": "aea1c126",
   "metadata": {},
   "source": [
    "***Reshape of Array***\n",
    "* we can reshape the elements position of the array without changing the elements."
   ]
  },
  {
   "cell_type": "code",
   "execution_count": 78,
   "id": "de2a2b71-0213-443f-aca9-4aa5c40fe190",
   "metadata": {},
   "outputs": [
    {
     "name": "stdout",
     "output_type": "stream",
     "text": [
      "[[1 2 3]\n",
      " [4 5 6]]\n"
     ]
    }
   ],
   "source": [
    "arr4 = np.array([1, 2, 3, 4, 5, 6])\n",
    "print(np.reshape(arr4, (2, 3))) "
   ]
  },
  {
   "cell_type": "code",
   "execution_count": 82,
   "id": "6bed06ed",
   "metadata": {},
   "outputs": [
    {
     "name": "stdout",
     "output_type": "stream",
     "text": [
      "[[1]\n",
      " [3]\n",
      " [5]\n",
      " [7]\n",
      " [9]]\n",
      "[[1 3 5 7 9]]\n"
     ]
    }
   ],
   "source": [
    "arr_odd = np.array([1, 3, 5, 7, 9])\n",
    "print(np.reshape(arr_odd, (5, 1)))  # (5, 1)\n",
    "print(np.reshape(arr_odd, (1, 5)))  # (1, 5)\n"
   ]
  },
  {
   "cell_type": "code",
   "execution_count": 87,
   "id": "9b2b3db1",
   "metadata": {},
   "outputs": [
    {
     "name": "stdout",
     "output_type": "stream",
     "text": [
      "[[ 1  3  5]\n",
      " [ 7  9 11]]\n",
      "[[ 1  3  5  7  9 11]]\n",
      "[[ 1]\n",
      " [ 3]\n",
      " [ 5]\n",
      " [ 7]\n",
      " [ 9]\n",
      " [11]]\n"
     ]
    }
   ],
   "source": [
    "arr_odd = np.array([1, 3, 5, 7, 9, 11])\n",
    "print(np.reshape(arr_odd, (2, 3)))\n",
    "print(np.reshape(arr_odd, (1,6)))\n",
    "print(np.reshape(arr_odd, (6,1)))\n"
   ]
  },
  {
   "cell_type": "markdown",
   "id": "fd025b0c",
   "metadata": {},
   "source": [
    "***Tranpose function on Array***\n",
    "* The np.transpose(arr) function transposes the array, swapping its rows and columns.\n",
    "* The output will be:"
   ]
  },
  {
   "cell_type": "code",
   "execution_count": 89,
   "id": "e166e927",
   "metadata": {},
   "outputs": [
    {
     "name": "stdout",
     "output_type": "stream",
     "text": [
      "[1 2 3 4 5 6]\n"
     ]
    }
   ],
   "source": [
    "arr = np.array([1, 2, 3, 4, 5, 6])\n",
    "print(np.transpose(arr))"
   ]
  },
  {
   "cell_type": "code",
   "execution_count": 88,
   "id": "7d611877-ac54-40d2-9381-5800d3aca879",
   "metadata": {},
   "outputs": [
    {
     "name": "stdout",
     "output_type": "stream",
     "text": [
      "[[1 3]\n",
      " [2 4]]\n"
     ]
    }
   ],
   "source": [
    "arr = np.array([[1, 2], [3, 4]])\n",
    "print(np.transpose(arr))"
   ]
  },
  {
   "cell_type": "code",
   "execution_count": 91,
   "id": "34472f38-11a5-45aa-881d-8d3700efaf84",
   "metadata": {},
   "outputs": [
    {
     "name": "stdout",
     "output_type": "stream",
     "text": [
      "[[1 3 5]\n",
      " [2 4 6]]\n"
     ]
    }
   ],
   "source": [
    "arr = np.array([[1, 2], [3, 4], [5, 6]])\n",
    "print(np.transpose(arr))"
   ]
  },
  {
   "cell_type": "markdown",
   "id": "1e5a42a3",
   "metadata": {},
   "source": [
    "***Concatenate the arrays***"
   ]
  },
  {
   "cell_type": "markdown",
   "id": "f0b26312",
   "metadata": {},
   "source": [
    "* We can concatenate the two individual arrays in numpy but there will be no order of regenarated arrayit just combine the arrays."
   ]
  },
  {
   "cell_type": "code",
   "execution_count": 93,
   "id": "12a6479e-b498-4f30-a8e4-6118c7006aec",
   "metadata": {},
   "outputs": [
    {
     "name": "stdout",
     "output_type": "stream",
     "text": [
      "[1 2 3 4 5 6]\n"
     ]
    }
   ],
   "source": [
    "arr1 = np.array([1, 2, 3])\n",
    "arr2 = np.array([4, 5, 6])\n",
    "print(np.concatenate((arr1, arr2)))"
   ]
  },
  {
   "cell_type": "code",
   "execution_count": 94,
   "id": "c85d8c4c-6252-46db-a376-203e86bd5913",
   "metadata": {},
   "outputs": [
    {
     "name": "stdout",
     "output_type": "stream",
     "text": [
      "[ 2  4  6  8 10  1  3  5  7  9]\n"
     ]
    }
   ],
   "source": [
    "arr_even = np.array([2, 4, 6, 8, 10])\n",
    "arr_odd = np.array([1, 3, 5, 7, 9])\n",
    "print(np.concatenate((arr_even,arr_odd)))"
   ]
  },
  {
   "cell_type": "code",
   "execution_count": 95,
   "id": "bd391dcf",
   "metadata": {},
   "outputs": [
    {
     "name": "stdout",
     "output_type": "stream",
     "text": [
      "[-1.5 -2.3 -3.7 -4.9 -5.1  1.   2.5  3.   4.1  5. ]\n"
     ]
    }
   ],
   "source": [
    "arr_neg_float = np.array([-1.5, -2.3, -3.7, -4.9, -5.1])\n",
    "arr_mixed = np.array([1, 2.5, 3, 4.1, 5])\n",
    "print(np.concatenate((arr_neg_float,arr_mixed)))"
   ]
  },
  {
   "cell_type": "markdown",
   "id": "7389eee8",
   "metadata": {},
   "source": [
    "***Split of the Array***"
   ]
  },
  {
   "cell_type": "markdown",
   "id": "19a20cce",
   "metadata": {},
   "source": [
    "* np.split ,splits the array arr into 2 equal parts. The function np.split() divides an array into multiple sub-arrays. The number 2 tells the function to split the array into 2 parts.\n"
   ]
  },
  {
   "cell_type": "code",
   "execution_count": 16,
   "id": "cf3de1a7-773c-461f-aa31-a27c5691c04e",
   "metadata": {},
   "outputs": [
    {
     "name": "stdout",
     "output_type": "stream",
     "text": [
      "[array([1, 2, 3]), array([4, 5, 6])]\n"
     ]
    }
   ],
   "source": [
    "arr = np.array([1, 2, 3, 4, 5, 6])\n",
    "print(np.split(arr, 2)) "
   ]
  },
  {
   "cell_type": "code",
   "execution_count": 98,
   "id": "1d7fce5a",
   "metadata": {},
   "outputs": [
    {
     "name": "stdout",
     "output_type": "stream",
     "text": [
      "[array([-1.5, -2.3, -3.7]), array([-4.9, -5.1, -6.9])]\n"
     ]
    }
   ],
   "source": [
    "arr_neg_float = np.array([-1.5, -2.3, -3.7, -4.9, -5.1 , -6.9])\n",
    "print(np.split(arr_neg_float, 2))"
   ]
  },
  {
   "cell_type": "markdown",
   "id": "3d366f0f",
   "metadata": {},
   "source": [
    "***Implementing zero in Array***"
   ]
  },
  {
   "cell_type": "markdown",
   "id": "76a9cfbc",
   "metadata": {},
   "source": [
    "np.zeroes provide the zeroes which are in float data type as an array."
   ]
  },
  {
   "cell_type": "code",
   "execution_count": 99,
   "id": "42ccc84b-7f09-4925-b3db-ee7e2e21d0da",
   "metadata": {},
   "outputs": [
    {
     "name": "stdout",
     "output_type": "stream",
     "text": [
      "[0. 0. 0. 0. 0. 0. 0. 0. 0. 0.]\n"
     ]
    }
   ],
   "source": [
    "arr = np.zeros(10)\n",
    "print(arr)"
   ]
  },
  {
   "cell_type": "markdown",
   "id": "6700b5b4",
   "metadata": {},
   "source": [
    "***Explanation of the np.linspace() Function***"
   ]
  },
  {
   "cell_type": "markdown",
   "id": "3cb06e41",
   "metadata": {},
   "source": [
    "* np.linspace(start, stop, num) is a NumPy function that generates linearly spaced values between two given numbers, start and stop, with a specified number of points (num).\n",
    "\n",
    "Here's the breakdown of the parameters:\n",
    "\n",
    "* start: The starting value of the range (inclusive).\n",
    "* stop: The end value of the range (inclusive).\n",
    "* num: The number of evenly spaced values to generate between start and stop.\n"
   ]
  },
  {
   "cell_type": "code",
   "execution_count": 25,
   "id": "8d49675a",
   "metadata": {},
   "outputs": [
    {
     "name": "stdout",
     "output_type": "stream",
     "text": [
      "[0.   0.25 0.5  0.75 1.  ]\n"
     ]
    }
   ],
   "source": [
    "arr = np.linspace(0,1,5)\n",
    "print(arr)"
   ]
  },
  {
   "cell_type": "code",
   "execution_count": 101,
   "id": "946d4518",
   "metadata": {},
   "outputs": [
    {
     "name": "stdout",
     "output_type": "stream",
     "text": [
      "[0.         0.55555556 1.11111111 1.66666667 2.22222222 2.77777778\n",
      " 3.33333333 3.88888889 4.44444444 5.        ]\n"
     ]
    }
   ],
   "source": [
    "arr = np.linspace(0, 5, 10)\n",
    "print(arr)\n"
   ]
  },
  {
   "cell_type": "code",
   "execution_count": 102,
   "id": "b7695a05",
   "metadata": {},
   "outputs": [
    {
     "name": "stdout",
     "output_type": "stream",
     "text": [
      "[-1.         -0.33333333  0.33333333  1.        ]\n"
     ]
    }
   ],
   "source": [
    "arr = np.linspace(-1, 1, 4)\n",
    "print(arr)\n"
   ]
  },
  {
   "cell_type": "markdown",
   "id": "1377e968",
   "metadata": {},
   "source": [
    "***Generating random elements in array***"
   ]
  },
  {
   "cell_type": "markdown",
   "id": "871215d8",
   "metadata": {},
   "source": [
    "* np.random.random() is a function in NumPy that generates an array of random numbers drawn from a uniform distribution between 0 and 1."
   ]
  },
  {
   "cell_type": "code",
   "execution_count": 26,
   "id": "9abff23a",
   "metadata": {},
   "outputs": [
    {
     "name": "stdout",
     "output_type": "stream",
     "text": [
      "[[0.80895159 0.51869341 0.31394957]\n",
      " [0.41148044 0.93466031 0.38232737]\n",
      " [0.11430972 0.05417632 0.27893392]]\n"
     ]
    }
   ],
   "source": [
    "arr = np.random.random((3,3))\n",
    "print(arr)"
   ]
  },
  {
   "cell_type": "markdown",
   "id": "49aff64a",
   "metadata": {},
   "source": [
    "* Generate a random integer between 0 and 10 (exclusive)\n"
   ]
  },
  {
   "cell_type": "code",
   "execution_count": 27,
   "id": "990506e2",
   "metadata": {},
   "outputs": [
    {
     "name": "stdout",
     "output_type": "stream",
     "text": [
      "7\n"
     ]
    }
   ],
   "source": [
    "random_int = np.random.randint(0, 10)\n",
    "print(random_int)  \n"
   ]
  },
  {
   "cell_type": "code",
   "execution_count": 106,
   "id": "f53ceb92",
   "metadata": {},
   "outputs": [
    {
     "name": "stdout",
     "output_type": "stream",
     "text": [
      "9\n",
      "8\n",
      "9\n"
     ]
    }
   ],
   "source": [
    "arr1 = np.random.randint(0,10)\n",
    "arr2 = np.random.randint(0,10)\n",
    "arr3 = np.random.randint(0,10)\n",
    "print(arr1)\n",
    "print(arr2)\n",
    "print(arr3)"
   ]
  },
  {
   "cell_type": "markdown",
   "id": "1609221c",
   "metadata": {},
   "source": [
    "***Explanation of np.arange()***\n",
    "\n",
    "* np.arange(start, stop, step) is a function in NumPy that generates an array of evenly spaced values over a specified range. "
   ]
  },
  {
   "cell_type": "code",
   "execution_count": 107,
   "id": "837c501c",
   "metadata": {},
   "outputs": [
    {
     "name": "stdout",
     "output_type": "stream",
     "text": [
      "[0 2 4 6 8]\n"
     ]
    }
   ],
   "source": [
    "arr = np.arange(0,10,2)\n",
    "print(arr)"
   ]
  },
  {
   "cell_type": "code",
   "execution_count": 109,
   "id": "790053d2",
   "metadata": {},
   "outputs": [
    {
     "name": "stdout",
     "output_type": "stream",
     "text": [
      "[1 2 3 4 5 6 7 8 9]\n"
     ]
    }
   ],
   "source": [
    "arr = np.arange(1, 10, 1)\n",
    "print(arr)\n"
   ]
  },
  {
   "cell_type": "code",
   "execution_count": 110,
   "id": "41d0a008",
   "metadata": {},
   "outputs": [
    {
     "name": "stdout",
     "output_type": "stream",
     "text": [
      "[-10  -8  -6  -4  -2]\n"
     ]
    }
   ],
   "source": [
    "arr = np.arange(-10, 0, 2)\n",
    "print(arr)\n"
   ]
  },
  {
   "cell_type": "code",
   "execution_count": 111,
   "id": "6bd1e4fb",
   "metadata": {},
   "outputs": [
    {
     "name": "stdout",
     "output_type": "stream",
     "text": [
      "[ 0  5 10 15]\n"
     ]
    }
   ],
   "source": [
    "arr = np.arange(0, 20, 5)\n",
    "print(arr)\n"
   ]
  },
  {
   "cell_type": "markdown",
   "id": "c859b2cc",
   "metadata": {},
   "source": [
    "### Excercise"
   ]
  },
  {
   "cell_type": "code",
   "execution_count": 2,
   "id": "7bfc8ec0",
   "metadata": {},
   "outputs": [],
   "source": [
    "import numpy as np "
   ]
  },
  {
   "cell_type": "code",
   "execution_count": 4,
   "id": "4456dd1b",
   "metadata": {},
   "outputs": [
    {
     "name": "stdout",
     "output_type": "stream",
     "text": [
      "[10 20 30 40 50]\n"
     ]
    }
   ],
   "source": [
    "num = np.array([10,20,30,40,50])\n",
    "print(num)"
   ]
  },
  {
   "cell_type": "code",
   "execution_count": 21,
   "id": "5a0c4ab7",
   "metadata": {},
   "outputs": [
    {
     "name": "stdout",
     "output_type": "stream",
     "text": [
      "[[10]\n",
      " [20]\n",
      " [30]\n",
      " [40]\n",
      " [50]]\n",
      "[10 20 30 40 50]\n"
     ]
    }
   ],
   "source": [
    "print(np.reshape(num,(5,1)))\n",
    "num_1 = np.transpose(num)\n",
    "print(num_1)"
   ]
  },
  {
   "cell_type": "code",
   "execution_count": 14,
   "id": "b5cd14f4",
   "metadata": {},
   "outputs": [
    {
     "name": "stdout",
     "output_type": "stream",
     "text": [
      "[ 2  4  6  8 10]\n"
     ]
    }
   ],
   "source": [
    "num_2 = np.array([2,4,6,8,10])\n",
    "print(num_2)"
   ]
  },
  {
   "cell_type": "code",
   "execution_count": 16,
   "id": "a7e34bc6",
   "metadata": {},
   "outputs": [
    {
     "name": "stdout",
     "output_type": "stream",
     "text": [
      "[12 24 36 48 60]\n",
      "[12 24 36 48 60]\n"
     ]
    }
   ],
   "source": [
    "print(num_1+num_2)\n",
    "print(np.add(num_1,num_2))"
   ]
  },
  {
   "cell_type": "code",
   "execution_count": 17,
   "id": "d9cc2379",
   "metadata": {},
   "outputs": [
    {
     "name": "stdout",
     "output_type": "stream",
     "text": [
      "[ 20  80 180 320 500]\n",
      "[ 20  80 180 320 500]\n"
     ]
    }
   ],
   "source": [
    "print(num_1*num_2)\n",
    "print(np.multiply(num_1,num_2))"
   ]
  },
  {
   "cell_type": "code",
   "execution_count": 24,
   "id": "adc1ee2c",
   "metadata": {},
   "outputs": [
    {
     "name": "stdout",
     "output_type": "stream",
     "text": [
      "[[ 2]\n",
      " [ 4]\n",
      " [ 6]\n",
      " [ 8]\n",
      " [10]]\n",
      "[[ 2  4  6  8 10]]\n"
     ]
    }
   ],
   "source": [
    "res = np.reshape(num_2,(5,1))\n",
    "print(res)\n",
    "print(np.transpose(res))"
   ]
  },
  {
   "cell_type": "code",
   "execution_count": 25,
   "id": "9b0d42d3",
   "metadata": {},
   "outputs": [
    {
     "name": "stdout",
     "output_type": "stream",
     "text": [
      "[1100]\n"
     ]
    }
   ],
   "source": [
    "print(np.dot(num_1,res))"
   ]
  },
  {
   "cell_type": "code",
   "execution_count": 27,
   "id": "9552a7f6",
   "metadata": {},
   "outputs": [
    {
     "name": "stdout",
     "output_type": "stream",
     "text": [
      "30.0\n",
      "6.0\n"
     ]
    }
   ],
   "source": [
    "print(np.mean(num_1))\n",
    "print(np.mean(num_2))"
   ]
  },
  {
   "cell_type": "code",
   "execution_count": 28,
   "id": "b4843c7a",
   "metadata": {},
   "outputs": [
    {
     "name": "stdout",
     "output_type": "stream",
     "text": [
      "30.0\n",
      "6.0\n"
     ]
    }
   ],
   "source": [
    "print(np.median(num_1))\n",
    "print(np.median(num_2))"
   ]
  },
  {
   "cell_type": "code",
   "execution_count": 29,
   "id": "2765b487",
   "metadata": {},
   "outputs": [
    {
     "name": "stdout",
     "output_type": "stream",
     "text": [
      "14.142135623730951\n",
      "2.8284271247461903\n"
     ]
    }
   ],
   "source": [
    "print(np.std(num_1))\n",
    "print(np.std(num_2))"
   ]
  },
  {
   "cell_type": "code",
   "execution_count": 31,
   "id": "87dac5df",
   "metadata": {},
   "outputs": [
    {
     "name": "stdout",
     "output_type": "stream",
     "text": [
      "[10 20 30 40 50  2  4  6  8 10]\n"
     ]
    }
   ],
   "source": [
    "print(np.concatenate((num_1,num_2)))"
   ]
  }
 ],
 "metadata": {
  "kernelspec": {
   "display_name": "Python 3",
   "language": "python",
   "name": "python3"
  },
  "language_info": {
   "codemirror_mode": {
    "name": "ipython",
    "version": 3
   },
   "file_extension": ".py",
   "mimetype": "text/x-python",
   "name": "python",
   "nbconvert_exporter": "python",
   "pygments_lexer": "ipython3",
   "version": "3.12.8"
  }
 },
 "nbformat": 4,
 "nbformat_minor": 5
}
