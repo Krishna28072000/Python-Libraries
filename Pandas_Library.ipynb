{
 "cells": [
  {
   "cell_type": "markdown",
   "metadata": {},
   "source": [
    "### Pandas Library"
   ]
  },
  {
   "cell_type": "markdown",
   "metadata": {},
   "source": [
    "* Pandas is a powerful and popular Python Library for data manipulation, analysis, and exploration. It is useful for working with structured data such as tables or time series and provides data strucutres and functions to make tasks more efficient and easy."
   ]
  },
  {
   "cell_type": "markdown",
   "metadata": {},
   "source": [
    "* Pandas allows us to analyze big data and make conclusions based on statistical theories.\n",
    "Pandas can clean messy data sets, and make them readable and relevant.\n",
    "Relevant data is very important in data science."
   ]
  },
  {
   "cell_type": "markdown",
   "metadata": {},
   "source": [
    "***Import Pandas Libraries***"
   ]
  },
  {
   "cell_type": "markdown",
   "metadata": {},
   "source": [
    "* To implement any activity through oandas we need to import pandas."
   ]
  },
  {
   "cell_type": "code",
   "execution_count": 1,
   "metadata": {
    "collapsed": true
   },
   "outputs": [],
   "source": [
    "import pandas as pd"
   ]
  },
  {
   "cell_type": "markdown",
   "metadata": {},
   "source": [
    "***Creation of Pandas Series & dataframe***\n"
   ]
  },
  {
   "cell_type": "markdown",
   "metadata": {},
   "source": [
    "***DataFrame***"
   ]
  },
  {
   "cell_type": "markdown",
   "metadata": {},
   "source": [
    "* The below code creates a Pandas DataFrame object using \"pd.DataFrame()\" method."
   ]
  },
  {
   "cell_type": "markdown",
   "metadata": {},
   "source": [
    "* A Pandas DataFrame is a 2 dimensional data structure, like a 2 dimensional array, or a table with rows and columns."
   ]
  },
  {
   "cell_type": "code",
   "execution_count": 2,
   "metadata": {},
   "outputs": [
    {
     "name": "stdout",
     "output_type": "stream",
     "text": [
      "    cars  passings\n",
      "0    BMW         3\n",
      "1  Volvo         7\n",
      "2   Ford         2\n"
     ]
    }
   ],
   "source": [
    "mydataset = {'cars':[\"BMW\",\"Volvo\",\"Ford\"],\n",
    "             'passings':[3,7,2]}\n",
    "myvar = pd.DataFrame(mydataset)\n",
    "print(myvar)"
   ]
  },
  {
   "cell_type": "code",
   "execution_count": 3,
   "metadata": {},
   "outputs": [
    {
     "name": "stdout",
     "output_type": "stream",
     "text": [
      "   calories  duration\n",
      "0       420        50\n",
      "1       380        40\n",
      "2       390        45\n"
     ]
    }
   ],
   "source": [
    "data = {\n",
    "  \"calories\": [420, 380, 390],\n",
    "  \"duration\": [50, 40, 45]\n",
    "}\n",
    "df = pd.DataFrame(data)\n",
    "print(df)"
   ]
  },
  {
   "cell_type": "markdown",
   "metadata": {},
   "source": [
    "***Formation of different DataFrame from different datatypes***"
   ]
  },
  {
   "cell_type": "markdown",
   "metadata": {},
   "source": [
    "* From a Dictionary of Lists or Arrays"
   ]
  },
  {
   "cell_type": "code",
   "execution_count": 34,
   "metadata": {},
   "outputs": [
    {
     "name": "stdout",
     "output_type": "stream",
     "text": [
      "      Name  Age       City\n",
      "0    Alice   25  Hyderabad\n",
      "1      Bob   30      Delhi\n",
      "2  Charlie   40    Chennai\n"
     ]
    }
   ],
   "source": [
    "data = {'Name': ['Alice', 'Bob', 'Charlie'], 'Age': [25, 30, 40], 'City' : ['Hyderabad','Delhi', 'Chennai']}\n",
    "df = pd.DataFrame(data)\n",
    "print(df)"
   ]
  },
  {
   "cell_type": "markdown",
   "metadata": {},
   "source": [
    "*  From a List of Dictionaries"
   ]
  },
  {
   "cell_type": "code",
   "execution_count": 35,
   "metadata": {},
   "outputs": [
    {
     "name": "stdout",
     "output_type": "stream",
     "text": [
      "      Name  age       city\n",
      "0  Avanthi   20  Ahemdabad\n",
      "1  Bhaskar   15   Banglore\n",
      "2   Charan   35    Chennai\n"
     ]
    }
   ],
   "source": [
    "data = [{'Name': 'Avanthi','age' : 20, 'city' : 'Ahemdabad'},\n",
    "        {'Name': 'Bhaskar', 'age' : 15, 'city' : 'Banglore'},\n",
    "        {'Name': 'Charan', 'age' : 35, 'city' : 'Chennai'}]\n",
    "df = pd.DataFrame(data)\n",
    "print(df)"
   ]
  },
  {
   "cell_type": "markdown",
   "metadata": {},
   "source": [
    "* From a List of Lists or Tuples (with Column Names)"
   ]
  },
  {
   "cell_type": "code",
   "execution_count": 36,
   "metadata": {},
   "outputs": [
    {
     "name": "stdout",
     "output_type": "stream",
     "text": [
      "   ID     Name\n",
      "0   1    Aishu\n",
      "1   2  Bhargav\n",
      "2   3   Chandu\n"
     ]
    }
   ],
   "source": [
    "data = [[1, 'Aishu'], [2, 'Bhargav'], [3, 'Chandu']]\n",
    "df = pd.DataFrame(data, columns = ['ID', 'Name'])\n",
    "print(df)"
   ]
  },
  {
   "cell_type": "markdown",
   "metadata": {},
   "source": [
    "* From a NumPy Array (with Column Names)"
   ]
  },
  {
   "cell_type": "code",
   "execution_count": 37,
   "metadata": {},
   "outputs": [
    {
     "name": "stdout",
     "output_type": "stream",
     "text": [
      "  ID     Name\n",
      "0  1    Alice\n",
      "1  2      Bob\n",
      "2  3  Charlie\n"
     ]
    }
   ],
   "source": [
    "data = np.array([[1, 'Alice'], [2, 'Bob'], [3, 'Charlie']])\n",
    "df = pd.DataFrame(data, columns=['ID', 'Name'])\n",
    "print(df)"
   ]
  },
  {
   "cell_type": "markdown",
   "metadata": {},
   "source": [
    "* From a Series (as Columns)"
   ]
  },
  {
   "cell_type": "code",
   "execution_count": 38,
   "metadata": {},
   "outputs": [
    {
     "name": "stdout",
     "output_type": "stream",
     "text": [
      "   ID     Name\n",
      "0   1    Alice\n",
      "1   2      Bob\n",
      "2   3  Charlie\n"
     ]
    }
   ],
   "source": [
    "series1 = pd.Series([1, 2, 3], name='ID')\n",
    "series2 = pd.Series(['Alice', 'Bob', 'Charlie'], name='Name')\n",
    "df = pd.DataFrame({series1.name: series1, series2.name: series2})\n",
    "print(df)"
   ]
  },
  {
   "cell_type": "markdown",
   "metadata": {},
   "source": [
    "* From a List of Tuples (with Named Columns)"
   ]
  },
  {
   "cell_type": "code",
   "execution_count": 39,
   "metadata": {},
   "outputs": [
    {
     "name": "stdout",
     "output_type": "stream",
     "text": [
      "   ID     Name\n",
      "0   1    Alice\n",
      "1   2      Bob\n",
      "2   3  Charlie\n"
     ]
    }
   ],
   "source": [
    "data = [(1, 'Alice'), (2, 'Bob'), (3, 'Charlie')]\n",
    "df = pd.DataFrame(data, columns=['ID', 'Name'])\n",
    "print(df)"
   ]
  },
  {
   "cell_type": "markdown",
   "metadata": {},
   "source": [
    "* Creating DataFrames with Index and Custom Column Names"
   ]
  },
  {
   "cell_type": "code",
   "execution_count": 40,
   "metadata": {},
   "outputs": [
    {
     "name": "stdout",
     "output_type": "stream",
     "text": [
      "   X  Y  Z\n",
      "A  1  2  3\n",
      "B  4  5  6\n",
      "C  7  8  9\n"
     ]
    }
   ],
   "source": [
    "data = [[1, 2, 3], [4, 5, 6], [7, 8, 9]]\n",
    "index = ['A', 'B', 'C']\n",
    "columns = ['X', 'Y', 'Z']\n",
    "df = pd.DataFrame(data, index=index, columns=columns)\n",
    "print(df)"
   ]
  },
  {
   "cell_type": "markdown",
   "metadata": {},
   "source": [
    "* Creating an Empty DataFrame"
   ]
  },
  {
   "cell_type": "code",
   "execution_count": 42,
   "metadata": {},
   "outputs": [
    {
     "name": "stdout",
     "output_type": "stream",
     "text": [
      "Empty DataFrame\n",
      "Columns: [A, B, C]\n",
      "Index: []\n"
     ]
    }
   ],
   "source": [
    "df = pd.DataFrame(columns=['A', 'B', 'C'])\n",
    "print(df)"
   ]
  },
  {
   "cell_type": "markdown",
   "metadata": {},
   "source": [
    "* DataFrame with NaN values"
   ]
  },
  {
   "cell_type": "code",
   "execution_count": 43,
   "metadata": {},
   "outputs": [
    {
     "name": "stdout",
     "output_type": "stream",
     "text": [
      "     A    B  C\n",
      "0  NaN  2.0  3\n",
      "1  4.0  NaN  6\n",
      "2  7.0  8.0  9\n"
     ]
    }
   ],
   "source": [
    "import numpy as np\n",
    "df = pd.DataFrame([[np.nan, 2, 3], [4, np.nan, 6], [7, 8, 9]], columns=['A', 'B', 'C'])\n",
    "print(df)"
   ]
  },
  {
   "cell_type": "markdown",
   "metadata": {},
   "source": [
    "* Creating DataFrames with MultiIndex (Hierarchical Indexing)"
   ]
  },
  {
   "cell_type": "code",
   "execution_count": 44,
   "metadata": {},
   "outputs": [
    {
     "name": "stdout",
     "output_type": "stream",
     "text": [
      "                 Col1  Col2\n",
      "Letters Numbers            \n",
      "A       1           1     2\n",
      "        2           3     4\n",
      "B       1           5     6\n",
      "        2           7     8\n"
     ]
    }
   ],
   "source": [
    "arrays = [['A', 'A', 'B', 'B'], [1, 2, 1, 2]]\n",
    "index = pd.MultiIndex.from_arrays(arrays, names=('Letters', 'Numbers'))\n",
    "df = pd.DataFrame([[1, 2], [3, 4], [5, 6], [7, 8]], index=index, columns=['Col1', 'Col2'])\n",
    "print(df)"
   ]
  },
  {
   "cell_type": "markdown",
   "metadata": {},
   "source": [
    "***Series***"
   ]
  },
  {
   "cell_type": "markdown",
   "metadata": {},
   "source": [
    "* The below code creates a Pandas Series object using the \"pd.Series()\" method."
   ]
  },
  {
   "cell_type": "markdown",
   "metadata": {},
   "source": [
    "* A Pandas Series is like a column in a table.\n",
    "It is a one-dimensional array holding data of any type."
   ]
  },
  {
   "cell_type": "code",
   "execution_count": 4,
   "metadata": {},
   "outputs": [
    {
     "name": "stdout",
     "output_type": "stream",
     "text": [
      "0    1\n",
      "1    7\n",
      "2    2\n",
      "dtype: int64\n"
     ]
    }
   ],
   "source": [
    "a = [1,7,2]\n",
    "df = pd.Series(a)\n",
    "print(df)"
   ]
  },
  {
   "cell_type": "code",
   "execution_count": 5,
   "metadata": {},
   "outputs": [
    {
     "name": "stdout",
     "output_type": "stream",
     "text": [
      "X    1\n",
      "Y    2\n",
      "Z    3\n",
      "dtype: int64\n"
     ]
    }
   ],
   "source": [
    "a = [1,2,3]\n",
    "df = pd.Series(a, index = [\"X\", \"Y\", \"Z\"])\n",
    "print(df)"
   ]
  },
  {
   "cell_type": "code",
   "execution_count": 6,
   "metadata": {
    "collapsed": true
   },
   "outputs": [
    {
     "data": {
      "text/plain": [
       "0    a\n",
       "1    b\n",
       "2    c\n",
       "3    d\n",
       "4    e\n",
       "5    f\n",
       "dtype: object"
      ]
     },
     "execution_count": 6,
     "metadata": {},
     "output_type": "execute_result"
    }
   ],
   "source": [
    "pds = pd.Series(list(\"abcdef\"),range(0,6,1))\n",
    "pds"
   ]
  },
  {
   "cell_type": "code",
   "execution_count": 7,
   "metadata": {
    "collapsed": true
   },
   "outputs": [
    {
     "data": {
      "text/plain": [
       "4    7\n",
       "5    8\n",
       "6    9\n",
       "7    6\n",
       "dtype: object"
      ]
     },
     "execution_count": 7,
     "metadata": {},
     "output_type": "execute_result"
    }
   ],
   "source": [
    "pds5=pd.Series(list(\"7896\"),range(4,8))\n",
    "pds5"
   ]
  },
  {
   "cell_type": "markdown",
   "metadata": {},
   "source": [
    "***Formation of series from different data types***"
   ]
  },
  {
   "cell_type": "markdown",
   "metadata": {},
   "source": [
    "* From a List"
   ]
  },
  {
   "cell_type": "code",
   "execution_count": 29,
   "metadata": {},
   "outputs": [
    {
     "name": "stdout",
     "output_type": "stream",
     "text": [
      "0    1\n",
      "1    2\n",
      "2    3\n",
      "3    4\n",
      "4    5\n",
      "dtype: int64\n"
     ]
    }
   ],
   "source": [
    "data = [1,2,3,4,5]\n",
    "series = pd.Series(data)\n",
    "print(series)"
   ]
  },
  {
   "cell_type": "markdown",
   "metadata": {},
   "source": [
    "* From a Dictionary"
   ]
  },
  {
   "cell_type": "code",
   "execution_count": 30,
   "metadata": {},
   "outputs": [
    {
     "name": "stdout",
     "output_type": "stream",
     "text": [
      "a    1\n",
      "b    2\n",
      "c    3\n",
      "dtype: int64\n"
     ]
    }
   ],
   "source": [
    "data = {\"a\":1, \"b\": 2, \"c\":3}\n",
    "series = pd.Series(data)\n",
    "print(series)"
   ]
  },
  {
   "cell_type": "markdown",
   "metadata": {},
   "source": [
    "* From a NumPy Array\n"
   ]
  },
  {
   "cell_type": "code",
   "execution_count": 31,
   "metadata": {},
   "outputs": [
    {
     "name": "stdout",
     "output_type": "stream",
     "text": [
      "0    10\n",
      "1    20\n",
      "2    30\n",
      "3    40\n",
      "dtype: int64\n"
     ]
    }
   ],
   "source": [
    "import numpy as np\n",
    "data = np.array([10, 20, 30, 40])\n",
    "series = pd.Series(data)\n",
    "print(series)"
   ]
  },
  {
   "cell_type": "markdown",
   "metadata": {},
   "source": [
    "* From a Tuple\n",
    "\n"
   ]
  },
  {
   "cell_type": "code",
   "execution_count": 32,
   "metadata": {},
   "outputs": [
    {
     "name": "stdout",
     "output_type": "stream",
     "text": [
      "0    1\n",
      "1    2\n",
      "2    3\n",
      "3    4\n",
      "dtype: int64\n"
     ]
    }
   ],
   "source": [
    "data = (1,2,3,4)\n",
    "series = pd.Series(data)\n",
    "print(series)"
   ]
  },
  {
   "cell_type": "markdown",
   "metadata": {},
   "source": [
    "* With a Specific Index"
   ]
  },
  {
   "cell_type": "code",
   "execution_count": 33,
   "metadata": {},
   "outputs": [
    {
     "name": "stdout",
     "output_type": "stream",
     "text": [
      "X    100\n",
      "Y    200\n",
      "Z    300\n",
      "dtype: int64\n"
     ]
    }
   ],
   "source": [
    "data = [100, 200, 300]\n",
    "index = ['X', 'Y', 'Z']\n",
    "series = pd.Series(data, index = index)\n",
    "print(series)"
   ]
  },
  {
   "cell_type": "markdown",
   "metadata": {},
   "source": [
    "***Accessing elements of Series***"
   ]
  },
  {
   "cell_type": "markdown",
   "metadata": {},
   "source": [
    "Pandas provides you to access the elements in the series."
   ]
  },
  {
   "cell_type": "markdown",
   "metadata": {},
   "source": [
    "* Accessing by Index Position(Using Integer Indexing)"
   ]
  },
  {
   "cell_type": "code",
   "execution_count": 53,
   "metadata": {},
   "outputs": [
    {
     "name": "stdout",
     "output_type": "stream",
     "text": [
      "0    10\n",
      "1    20\n",
      "2    30\n",
      "3    40\n",
      "4    50\n",
      "dtype: int64\n",
      "10\n",
      "-----------------\n",
      "30\n",
      "-----------------\n",
      "1    20\n",
      "2    30\n",
      "dtype: int64\n",
      "-----------------\n",
      "2    30\n",
      "3    40\n",
      "4    50\n",
      "dtype: int64\n",
      "-----------------\n",
      "0    10\n",
      "1    20\n",
      "2    30\n",
      "3    40\n",
      "dtype: int64\n",
      "-----------------\n",
      "0    10\n",
      "1    20\n",
      "2    30\n",
      "3    40\n",
      "4    50\n",
      "dtype: int64\n",
      "0    10\n",
      "3    40\n",
      "dtype: int64\n",
      "-----------------\n"
     ]
    }
   ],
   "source": [
    "data = [10, 20, 30, 40, 50]\n",
    "series = pd.Series(data)\n",
    "print(series)\n",
    "\n",
    "print(series.iloc[0])\n",
    "print(\"-----------------\")\n",
    "print(series.iloc[2])\n",
    "print(\"-----------------\")\n",
    "print(series.iloc[1:3])\n",
    "print(\"-----------------\")\n",
    "print(series.iloc[2:])\n",
    "print(\"-----------------\")\n",
    "print(series.iloc[:4])\n",
    "print(\"-----------------\")\n",
    "print(series.iloc[::1])\n",
    "print(series.iloc[::3])\n",
    "print(\"-----------------\")\n",
    "\n"
   ]
  },
  {
   "cell_type": "code",
   "execution_count": 52,
   "metadata": {},
   "outputs": [
    {
     "name": "stdout",
     "output_type": "stream",
     "text": [
      "2    30\n",
      "3    40\n",
      "4    50\n",
      "dtype: int64\n"
     ]
    }
   ],
   "source": [
    "print(series.iloc[2::])"
   ]
  },
  {
   "cell_type": "markdown",
   "metadata": {},
   "source": [
    "* Using Direct Indexing (for 0-based index)"
   ]
  },
  {
   "cell_type": "code",
   "execution_count": 57,
   "metadata": {},
   "outputs": [
    {
     "name": "stdout",
     "output_type": "stream",
     "text": [
      "0    10\n",
      "1    20\n",
      "2    30\n",
      "3    40\n",
      "4    50\n",
      "dtype: int64\n",
      "---------------\n",
      "10\n",
      "---------------\n",
      "40\n",
      "---------------\n",
      "0    10\n",
      "1    20\n",
      "2    30\n",
      "dtype: int64\n"
     ]
    }
   ],
   "source": [
    "data = [10, 20, 30, 40, 50]\n",
    "series = pd.Series(data)\n",
    "print(series)\n",
    "print(\"---------------\")\n",
    "print(series[0])\n",
    "print(\"---------------\")\n",
    "print(series[3])\n",
    "print(\"---------------\")\n",
    "print(series[0:3])"
   ]
  },
  {
   "cell_type": "markdown",
   "metadata": {},
   "source": [
    "* Accessing by Index Lable(Using Label-based Indexing)"
   ]
  },
  {
   "cell_type": "code",
   "execution_count": 60,
   "metadata": {},
   "outputs": [
    {
     "name": "stdout",
     "output_type": "stream",
     "text": [
      "a    100\n",
      "b    150\n",
      "c    200\n",
      "d    250\n",
      "e    300\n",
      "f    350\n",
      "g    400\n",
      "h    450\n",
      "i    500\n",
      "dtype: int64\n",
      "---------------\n",
      "100\n",
      "---------------\n",
      "150\n",
      "---------------\n",
      "450\n"
     ]
    }
   ],
   "source": [
    "data = [100, 150, 200, 250, 300, 350, 400, 450, 500]\n",
    "index = ['a', 'b', 'c', 'd', 'e', 'f', 'g', 'h', 'i']\n",
    "series = pd.Series(data, index = index)\n",
    "\n",
    "print(series)\n",
    "print(\"---------------\")\n",
    "print(series.loc['a'])\n",
    "print(\"---------------\")\n",
    "print(series.loc['b'])\n",
    "print(\"---------------\")\n",
    "print(series.loc['h'])"
   ]
  },
  {
   "cell_type": "markdown",
   "metadata": {},
   "source": [
    "* Using Direct Label Indexing"
   ]
  },
  {
   "cell_type": "code",
   "execution_count": 65,
   "metadata": {},
   "outputs": [
    {
     "name": "stdout",
     "output_type": "stream",
     "text": [
      "200\n",
      "----------------\n",
      "500\n",
      "----------------\n",
      "a    100\n",
      "b    150\n",
      "c    200\n",
      "d    250\n",
      "e    300\n",
      "f    350\n",
      "g    400\n",
      "dtype: int64\n",
      "----------------\n",
      "g    400\n",
      "h    450\n",
      "i    500\n",
      "dtype: int64\n",
      "----------------\n",
      "a    100\n",
      "b    150\n",
      "c    200\n",
      "d    250\n",
      "dtype: int64\n"
     ]
    }
   ],
   "source": [
    "print(series['c'])\n",
    "print(\"----------------\")\n",
    "print(series['i'])\n",
    "print(\"----------------\")\n",
    "print(series['a':'g'])\n",
    "print(\"----------------\")\n",
    "print(series['g':])\n",
    "print(\"----------------\")\n",
    "print(series[:'d'])"
   ]
  },
  {
   "cell_type": "markdown",
   "metadata": {},
   "source": [
    "* Accessing Multiple Elements :\n",
    "\n",
    "a. Using .iloc[ ] and .loc[ ] for Multiple Index Positions"
   ]
  },
  {
   "cell_type": "code",
   "execution_count": 69,
   "metadata": {},
   "outputs": [
    {
     "name": "stdout",
     "output_type": "stream",
     "text": [
      "a    100\n",
      "c    200\n",
      "dtype: int64\n",
      "-----------------\n",
      "a    100\n",
      "d    250\n",
      "dtype: int64\n"
     ]
    }
   ],
   "source": [
    "print(series.iloc[[0, 2]])\n",
    "print(\"-----------------\")\n",
    "print(series.loc[['a', 'd']])"
   ]
  },
  {
   "cell_type": "markdown",
   "metadata": {},
   "source": [
    "b. Using Boolean Indexing "
   ]
  },
  {
   "cell_type": "code",
   "execution_count": 70,
   "metadata": {},
   "outputs": [
    {
     "name": "stdout",
     "output_type": "stream",
     "text": [
      "a    100\n",
      "b    150\n",
      "c    200\n",
      "d    250\n",
      "e    300\n",
      "f    350\n",
      "g    400\n",
      "h    450\n",
      "i    500\n",
      "dtype: int64\n"
     ]
    }
   ],
   "source": [
    "print(series[series > 20])"
   ]
  },
  {
   "cell_type": "markdown",
   "metadata": {},
   "source": [
    "***Operation on Series***"
   ]
  },
  {
   "cell_type": "markdown",
   "metadata": {},
   "source": [
    "In Pandas we can perform element wise operations which combines or maipulates the series "
   ]
  },
  {
   "cell_type": "code",
   "execution_count": 11,
   "metadata": {},
   "outputs": [
    {
     "data": {
      "text/plain": [
       "0    al\n",
       "1    bm\n",
       "2    cn\n",
       "3    do\n",
       "4    ep\n",
       "5    fq\n",
       "dtype: object"
      ]
     },
     "execution_count": 11,
     "metadata": {},
     "output_type": "execute_result"
    }
   ],
   "source": [
    "pds+pds1"
   ]
  },
  {
   "cell_type": "code",
   "execution_count": 12,
   "metadata": {},
   "outputs": [
    {
     "name": "stdout",
     "output_type": "stream",
     "text": [
      "0    a\n",
      "1    b\n",
      "2    c\n",
      "3    d\n",
      "4    e\n",
      "dtype: object\n",
      "0         apple\n",
      "1        banana\n",
      "2        cherry\n",
      "3          date\n",
      "4    elderberry\n",
      "dtype: object\n",
      "0         aapple\n",
      "1        bbanana\n",
      "2        ccherry\n",
      "3          ddate\n",
      "4    eelderberry\n",
      "dtype: object\n"
     ]
    }
   ],
   "source": [
    "index_labels = ['a', 'b', 'c', 'd', 'e']\n",
    "data_string = ['apple', 'banana', 'cherry', 'date', 'elderberry']\n",
    "n = pd.Series(index_labels)\n",
    "s = pd.Series(data_string)\n",
    "print(n)\n",
    "print(s)\n",
    "print(n+s)"
   ]
  },
  {
   "cell_type": "markdown",
   "metadata": {},
   "source": [
    "* df2 is a dictionary where the keys \"alfa\" and \"beta\" are assigned to pds4 and pds5, respectively.\n",
    "pd_df2 = pd.DataFrame(df2) creates a pandas DataFrame using the dictionary df2."
   ]
  },
  {
   "cell_type": "code",
   "execution_count": 13,
   "metadata": {},
   "outputs": [
    {
     "data": {
      "text/html": [
       "<div>\n",
       "<style scoped>\n",
       "    .dataframe tbody tr th:only-of-type {\n",
       "        vertical-align: middle;\n",
       "    }\n",
       "\n",
       "    .dataframe tbody tr th {\n",
       "        vertical-align: top;\n",
       "    }\n",
       "\n",
       "    .dataframe thead th {\n",
       "        text-align: right;\n",
       "    }\n",
       "</style>\n",
       "<table border=\"1\" class=\"dataframe\">\n",
       "  <thead>\n",
       "    <tr style=\"text-align: right;\">\n",
       "      <th></th>\n",
       "      <th>alfa</th>\n",
       "      <th>beta</th>\n",
       "    </tr>\n",
       "  </thead>\n",
       "  <tbody>\n",
       "    <tr>\n",
       "      <th>0</th>\n",
       "      <td>blue</td>\n",
       "      <td>NaN</td>\n",
       "    </tr>\n",
       "    <tr>\n",
       "      <th>1</th>\n",
       "      <td>red</td>\n",
       "      <td>NaN</td>\n",
       "    </tr>\n",
       "    <tr>\n",
       "      <th>2</th>\n",
       "      <td>green</td>\n",
       "      <td>NaN</td>\n",
       "    </tr>\n",
       "    <tr>\n",
       "      <th>3</th>\n",
       "      <td>violet</td>\n",
       "      <td>NaN</td>\n",
       "    </tr>\n",
       "    <tr>\n",
       "      <th>4</th>\n",
       "      <td>white</td>\n",
       "      <td>7</td>\n",
       "    </tr>\n",
       "    <tr>\n",
       "      <th>5</th>\n",
       "      <td>black</td>\n",
       "      <td>8</td>\n",
       "    </tr>\n",
       "    <tr>\n",
       "      <th>6</th>\n",
       "      <td>NaN</td>\n",
       "      <td>9</td>\n",
       "    </tr>\n",
       "    <tr>\n",
       "      <th>7</th>\n",
       "      <td>NaN</td>\n",
       "      <td>6</td>\n",
       "    </tr>\n",
       "  </tbody>\n",
       "</table>\n",
       "</div>"
      ],
      "text/plain": [
       "     alfa beta\n",
       "0    blue  NaN\n",
       "1     red  NaN\n",
       "2   green  NaN\n",
       "3  violet  NaN\n",
       "4   white    7\n",
       "5   black    8\n",
       "6     NaN    9\n",
       "7     NaN    6"
      ]
     },
     "execution_count": 13,
     "metadata": {},
     "output_type": "execute_result"
    }
   ],
   "source": [
    "pds4=pd.Series([\"blue\",\"red\",\"green\",\"violet\",\"white\",\"black\"],range(0,6,1))\n",
    "pds5=pd.Series(list(\"7896\"),range(4,8))\n",
    "df2={\"alfa\":pds4,\"beta\":pds5}\n",
    "pd_df2=pd.DataFrame(df2)\n",
    "pd_df2"
   ]
  },
  {
   "cell_type": "markdown",
   "metadata": {},
   "source": [
    "***Accessing a particular column***"
   ]
  },
  {
   "cell_type": "markdown",
   "metadata": {},
   "source": [
    "In the given code we assigned a key \"alfa\" to \"pds4\" series and with that key we can access the the column from the above dataframe. "
   ]
  },
  {
   "cell_type": "code",
   "execution_count": 14,
   "metadata": {},
   "outputs": [
    {
     "data": {
      "text/plain": [
       "0      blue\n",
       "1       red\n",
       "2     green\n",
       "3    violet\n",
       "4     white\n",
       "5     black\n",
       "6       NaN\n",
       "7       NaN\n",
       "Name: alfa, dtype: object"
      ]
     },
     "execution_count": 14,
     "metadata": {},
     "output_type": "execute_result"
    }
   ],
   "source": [
    "pds4=pd.Series([\"blue\",\"red\",\"green\",\"violet\",\"white\",\"black\"],range(0,6,1))\n",
    "pds5=pd.Series(list(\"7896\"),range(4,8))\n",
    "df2={\"alfa\":pds4,\"beta\":pds5}\n",
    "pd_df2=pd.DataFrame(df2)\n",
    "pd_df2[\"alfa\"]"
   ]
  },
  {
   "cell_type": "code",
   "execution_count": 15,
   "metadata": {},
   "outputs": [
    {
     "name": "stdout",
     "output_type": "stream",
     "text": [
      "0     small\n",
      "1    medium\n",
      "2     large\n",
      "3    medium\n",
      "4     small\n",
      "dtype: object\n",
      "small\n",
      "small\n",
      "medium\n"
     ]
    }
   ],
   "source": [
    "categories = ['small', 'medium', 'large', 'medium', 'small']\n",
    "series_categories = pd.Series(categories)\n",
    "print(series_categories)\n",
    "print(series_categories[0])\n",
    "print(series_categories[4])\n",
    "print(series_categories[3])"
   ]
  },
  {
   "cell_type": "markdown",
   "metadata": {},
   "source": [
    "***Accessing a group of particular columns***"
   ]
  },
  {
   "cell_type": "markdown",
   "metadata": {},
   "source": [
    "*  The code aims to create a DataFrame from the dictionary df1 and then extract specific columns from it. This process demonstrates how to manipulate and access data from DataFrames in Pandas."
   ]
  },
  {
   "cell_type": "code",
   "execution_count": 16,
   "metadata": {},
   "outputs": [],
   "source": [
    "pds4=pd.Series([\"blue\",\"red\",\"green\",\"violet\",\"white\",\"black\"],range(0,6,1))\n",
    "pds5=pd.Series(list(\"7896\"),range(4,8))\n",
    "df2={\"alfa\":pds4,\"beta\":pds5}\n",
    "pd_df2=pd.DataFrame(df2)"
   ]
  },
  {
   "cell_type": "code",
   "execution_count": 17,
   "metadata": {},
   "outputs": [
    {
     "data": {
      "text/plain": [
       "'6'"
      ]
     },
     "execution_count": 17,
     "metadata": {},
     "output_type": "execute_result"
    }
   ],
   "source": [
    "# df.loc[row_label, column_label]\n",
    "pd_df2.loc[7,\"beta\"]"
   ]
  },
  {
   "cell_type": "markdown",
   "metadata": {},
   "source": [
    "***Accessing a particlar cell using index and column names***"
   ]
  },
  {
   "cell_type": "markdown",
   "metadata": {},
   "source": [
    "The \".loc\" index in pandas is used for label-based indexing, allowing you to access a group of rows and columns by labels and boolean array. It provide a way to select and manipulate specific parts of DataFrame or Series."
   ]
  },
  {
   "cell_type": "code",
   "execution_count": 18,
   "metadata": {},
   "outputs": [
    {
     "name": "stdout",
     "output_type": "stream",
     "text": [
      "california    423967\n",
      "Texas         695662\n",
      "Newyork       141297\n",
      "Florida       170312\n",
      "Illinois      149995\n",
      "dtype: int64\n"
     ]
    }
   ],
   "source": [
    "area={'california':423967,'Texas':695662,'Newyork':141297,'Florida':170312,'Illinois':149995}\n",
    "res=pd.Series(area)\n",
    "print(res)"
   ]
  },
  {
   "cell_type": "code",
   "execution_count": 19,
   "metadata": {},
   "outputs": [
    {
     "name": "stdout",
     "output_type": "stream",
     "text": [
      "423967\n",
      "california    423967\n",
      "Texas         695662\n",
      "dtype: int64\n",
      "Texas      695662\n",
      "Newyork    141297\n",
      "Florida    170312\n",
      "dtype: int64\n"
     ]
    }
   ],
   "source": [
    "print(res.loc['california'])\n",
    "print(res.loc[['california','Texas']])\n",
    "print(res.loc['Texas':'Florida'])"
   ]
  },
  {
   "cell_type": "code",
   "execution_count": 20,
   "metadata": {},
   "outputs": [
    {
     "name": "stdout",
     "output_type": "stream",
     "text": [
      "      Name  Age\n",
      "a    Alice   25\n",
      "b      Bob   30\n",
      "c  Charlie   35\n",
      "Name    Bob\n",
      "Age      30\n",
      "Name: b, dtype: object\n",
      "Name    Alice\n",
      "Age        25\n",
      "Name: a, dtype: object\n"
     ]
    }
   ],
   "source": [
    "data = {'Name': ['Alice', 'Bob', 'Charlie'], 'Age': [25, 30, 35]}\n",
    "df = pd.DataFrame(data, index=['a', 'b', 'c'])\n",
    "print(df)\n",
    "\n",
    "# Select row by label 'b'\n",
    "print(df.loc['b'])\n",
    "print(df.loc['a'])\n"
   ]
  },
  {
   "cell_type": "code",
   "execution_count": 21,
   "metadata": {},
   "outputs": [
    {
     "name": "stdout",
     "output_type": "stream",
     "text": [
      "              area  population\n",
      "california  423967     3833251\n",
      "Texas       695662    26448193\n",
      "Newyork     141297    19651127\n",
      "Florida     170312    19552860\n",
      "Illinois    149995    12882135\n"
     ]
    }
   ],
   "source": [
    "area={'california':423967,'Texas':695662,'Newyork':141297,'Florida':170312,'Illinois':149995}\n",
    "pop={'california':3833251,'Texas':26448193,'Newyork':19651127,'Florida':19552860,'Illinois':12882135}\n",
    "res=pd.DataFrame({'area':area,'population':pop})\n",
    "print(res)"
   ]
  },
  {
   "cell_type": "code",
   "execution_count": 22,
   "metadata": {},
   "outputs": [
    {
     "name": "stdout",
     "output_type": "stream",
     "text": [
      "area           423967\n",
      "population    3833251\n",
      "Name: california, dtype: int64\n",
      "area            141297\n",
      "population    19651127\n",
      "Name: Newyork, dtype: int64\n",
      "<pandas.core.indexing._LocIndexer object at 0x0000020F48965EA0>\n"
     ]
    }
   ],
   "source": [
    "print(res.loc['california'])\n",
    "print(res.loc['Newyork'])\n",
    "print(res.loc)"
   ]
  },
  {
   "cell_type": "code",
   "execution_count": 23,
   "metadata": {},
   "outputs": [
    {
     "name": "stdout",
     "output_type": "stream",
     "text": [
      "423967\n"
     ]
    }
   ],
   "source": [
    "print(res.loc[\"california\",\"area\"])"
   ]
  },
  {
   "cell_type": "markdown",
   "metadata": {},
   "source": [
    "***Adding a new column to a dataframe***"
   ]
  },
  {
   "cell_type": "code",
   "execution_count": 26,
   "metadata": {
    "collapsed": true
   },
   "outputs": [
    {
     "name": "stdout",
     "output_type": "stream",
     "text": [
      "   A  B   C\n",
      "0  1  4  10\n",
      "1  2  5  10\n",
      "2  3  6  10\n"
     ]
    }
   ],
   "source": [
    "df = pd.DataFrame({\n",
    "    'A': [1, 2, 3],\n",
    "    'B': [4, 5, 6]\n",
    "})\n",
    "df['C'] = 10\n",
    "print(df)"
   ]
  },
  {
   "cell_type": "code",
   "execution_count": 27,
   "metadata": {},
   "outputs": [
    {
     "name": "stdout",
     "output_type": "stream",
     "text": [
      "   A  B   C\n",
      "0  1  4  12\n",
      "1  2  5  20\n",
      "2  3  6  30\n"
     ]
    }
   ],
   "source": [
    "df = pd.DataFrame({'A':[1,2,3],'B':[4,5,6]})\n",
    "df['C'] = [12,20,30]\n",
    "print(df)\n"
   ]
  },
  {
   "cell_type": "markdown",
   "metadata": {},
   "source": [
    "***Removing a particular column from dataframe***"
   ]
  },
  {
   "cell_type": "code",
   "execution_count": 73,
   "metadata": {},
   "outputs": [
    {
     "name": "stdout",
     "output_type": "stream",
     "text": [
      "      Name  Age         City\n",
      "0    Alice   25     New York\n",
      "1      Bob   30  Los Angeles\n",
      "2  Charlie   35      Chicago\n",
      "----------------\n",
      "      Name         City\n",
      "0    Alice     New York\n",
      "1      Bob  Los Angeles\n",
      "2  Charlie      Chicago\n"
     ]
    }
   ],
   "source": [
    "data = {'Name': ['Alice', 'Bob', 'Charlie'], 'Age': [25, 30, 35], 'City': ['New York', 'Los Angeles', 'Chicago']}\n",
    "df = pd.DataFrame(data)\n",
    "\n",
    "print(df)\n",
    "print(\"----------------\")\n",
    "df = df.drop('Age',axis = 1)\n",
    "print(df)\n"
   ]
  },
  {
   "cell_type": "code",
   "execution_count": 76,
   "metadata": {},
   "outputs": [
    {
     "name": "stdout",
     "output_type": "stream",
     "text": [
      "      Name\n",
      "0    Alice\n",
      "1      Bob\n",
      "2  Charlie\n"
     ]
    }
   ],
   "source": [
    "# Removing 'Age' and 'City' columns\n",
    "data = {'Name': ['Alice', 'Bob', 'Charlie'], 'Age': [25, 30, 35], 'City': ['New York', 'Los Angeles', 'Chicago']}\n",
    "df = pd.DataFrame(data)\n",
    "df = df.drop(['Age', 'City'], axis=1)\n",
    "print(df)\n"
   ]
  },
  {
   "cell_type": "code",
   "execution_count": 78,
   "metadata": {},
   "outputs": [
    {
     "name": "stdout",
     "output_type": "stream",
     "text": [
      "      Name  Age\n",
      "0    Alice   25\n",
      "1      Bob   30\n",
      "2  Charlie   35\n"
     ]
    }
   ],
   "source": [
    "data = {'Name': ['Alice', 'Bob', 'Charlie'], 'Age': [25, 30, 35], 'City': ['New York', 'Los Angeles', 'Chicago']}\n",
    "df = pd.DataFrame(data)\n",
    "df.drop('City', axis = 1, inplace = True)\n",
    "print(df)"
   ]
  },
  {
   "cell_type": "markdown",
   "metadata": {},
   "source": [
    "***Removing a particlaur row***"
   ]
  },
  {
   "cell_type": "code",
   "execution_count": 79,
   "metadata": {},
   "outputs": [
    {
     "name": "stdout",
     "output_type": "stream",
     "text": [
      "      Name  Age      City\n",
      "0    Alice   25  New York\n",
      "2  Charlie   35   Chicago\n"
     ]
    }
   ],
   "source": [
    "data = {'Name': ['Alice', 'Bob', 'Charlie'], 'Age': [25, 30, 35], 'City': ['New York', 'Los Angeles', 'Chicago']}\n",
    "df = pd.DataFrame(data)\n",
    "df = df.drop(1)\n",
    "print(df)"
   ]
  },
  {
   "cell_type": "code",
   "execution_count": 80,
   "metadata": {},
   "outputs": [
    {
     "name": "stdout",
     "output_type": "stream",
     "text": [
      "  Name  Age         City\n",
      "1  Bob   30  Los Angeles\n"
     ]
    }
   ],
   "source": [
    "data = {'Name': ['Alice', 'Bob', 'Charlie'], 'Age': [25, 30, 35], 'City': ['New York', 'Los Angeles', 'Chicago']}\n",
    "df = pd.DataFrame(data)\n",
    "df = df.drop([0,2])\n",
    "print(df)"
   ]
  },
  {
   "cell_type": "code",
   "execution_count": 81,
   "metadata": {},
   "outputs": [
    {
     "name": "stdout",
     "output_type": "stream",
     "text": [
      "      Name  Age      City\n",
      "0    Alice   25  New York\n",
      "2  Charlie   35   Chicago\n"
     ]
    }
   ],
   "source": [
    "data = {'Name': ['Alice', 'Bob', 'Charlie'], 'Age': [25, 30, 35], 'City': ['New York', 'Los Angeles', 'Chicago']}\n",
    "df = pd.DataFrame(data)\n",
    "df.drop(1, axis=0, inplace=True)\n",
    "print(df)"
   ]
  },
  {
   "cell_type": "markdown",
   "metadata": {},
   "source": [
    "***Getting the dimension of a dataframe***"
   ]
  },
  {
   "cell_type": "code",
   "execution_count": 82,
   "metadata": {},
   "outputs": [
    {
     "data": {
      "text/plain": [
       "(3, 3)"
      ]
     },
     "execution_count": 82,
     "metadata": {},
     "output_type": "execute_result"
    }
   ],
   "source": [
    "data = {'Name': ['Alice', 'Bob', 'Charlie'], 'Age': [25, 30, 35], 'City': ['New York', 'Los Angeles', 'Chicago']}\n",
    "df = pd.DataFrame(data)\n",
    "df.shape\n"
   ]
  },
  {
   "cell_type": "markdown",
   "metadata": {},
   "source": [
    "***Filling with specified values to a nulls***"
   ]
  },
  {
   "cell_type": "code",
   "execution_count": 83,
   "metadata": {},
   "outputs": [
    {
     "name": "stdout",
     "output_type": "stream",
     "text": [
      "0    10.0\n",
      "1     0.0\n",
      "2    30.0\n",
      "3     0.0\n",
      "4    50.0\n",
      "dtype: float64\n"
     ]
    }
   ],
   "source": [
    "data = [10, np.nan, 30, np.nan, 50]\n",
    "series = pd.Series(data)\n",
    "\n",
    "# Fill NaN values with a specific value (e.g., 0)\n",
    "filled_series = series.fillna(0)\n",
    "print(filled_series)"
   ]
  },
  {
   "cell_type": "markdown",
   "metadata": {},
   "source": [
    "***Grouping based on column values and applying a relationship on other columns***"
   ]
  },
  {
   "cell_type": "code",
   "execution_count": 84,
   "metadata": {},
   "outputs": [
    {
     "name": "stdout",
     "output_type": "stream",
     "text": [
      "          Value1  Value2\n",
      "Category                \n",
      "A             90      45\n",
      "B            120      60\n"
     ]
    }
   ],
   "source": [
    "import pandas as pd\n",
    "\n",
    "data = {\n",
    "    'Category': ['A', 'B', 'A', 'B', 'A', 'B'],\n",
    "    'Value1': [10, 20, 30, 40, 50, 60],\n",
    "    'Value2': [5, 10, 15, 20, 25, 30]\n",
    "}\n",
    "df = pd.DataFrame(data)\n",
    "\n",
    "grouped_df = df.groupby('Category').agg({'Value1': 'sum', 'Value2': 'sum'})\n",
    "print(grouped_df)\n"
   ]
  },
  {
   "cell_type": "code",
   "execution_count": 85,
   "metadata": {},
   "outputs": [
    {
     "name": "stdout",
     "output_type": "stream",
     "text": [
      "  Category  Value1  Value2  Value1_zscore\n",
      "0        A      10       5           -1.0\n",
      "1        B      20      10           -1.0\n",
      "2        A      30      15            0.0\n",
      "3        B      40      20            0.0\n",
      "4        A      50      25            1.0\n",
      "5        B      60      30            1.0\n"
     ]
    }
   ],
   "source": [
    "df['Value1_zscore'] = df.groupby('Category')['Value1'].transform(lambda x: (x - x.mean()) / x.std())\n",
    "print(df)\n"
   ]
  },
  {
   "cell_type": "markdown",
   "metadata": {},
   "source": [
    "***Desribing charaterstics of column with categorical data***"
   ]
  },
  {
   "cell_type": "code",
   "execution_count": 86,
   "metadata": {},
   "outputs": [
    {
     "data": {
      "text/plain": [
       "<bound method NDFrame.describe of   Category  Value1  Value2  Value1_zscore\n",
       "0        A      10       5           -1.0\n",
       "1        B      20      10           -1.0\n",
       "2        A      30      15            0.0\n",
       "3        B      40      20            0.0\n",
       "4        A      50      25            1.0\n",
       "5        B      60      30            1.0>"
      ]
     },
     "execution_count": 86,
     "metadata": {},
     "output_type": "execute_result"
    }
   ],
   "source": [
    "df.describe"
   ]
  },
  {
   "cell_type": "markdown",
   "metadata": {},
   "source": [
    "***Dataframe concatenation***"
   ]
  },
  {
   "cell_type": "code",
   "execution_count": 87,
   "metadata": {},
   "outputs": [
    {
     "name": "stdout",
     "output_type": "stream",
     "text": [
      "   A  B\n",
      "0  1  3\n",
      "1  2  4\n",
      "0  5  7\n",
      "1  6  8\n"
     ]
    }
   ],
   "source": [
    "df1 = pd.DataFrame({\n",
    "    'A': [1, 2],\n",
    "    'B': [3, 4]\n",
    "})\n",
    "\n",
    "df2 = pd.DataFrame({\n",
    "    'A': [5, 6],\n",
    "    'B': [7, 8]\n",
    "})\n",
    "\n",
    "df_concat = pd.concat([df1, df2], axis=0)\n",
    "print(df_concat)\n"
   ]
  },
  {
   "cell_type": "code",
   "execution_count": 88,
   "metadata": {},
   "outputs": [
    {
     "name": "stdout",
     "output_type": "stream",
     "text": [
      "   A  B\n",
      "0  1  3\n",
      "1  2  4\n",
      "2  5  7\n",
      "3  6  8\n"
     ]
    }
   ],
   "source": [
    "df_concat = pd.concat([df1, df2], axis=0, ignore_index=True)\n",
    "print(df_concat)"
   ]
  },
  {
   "cell_type": "code",
   "execution_count": 89,
   "metadata": {},
   "outputs": [
    {
     "name": "stdout",
     "output_type": "stream",
     "text": [
      "   A  B  C  D\n",
      "0  1  3  5  7\n",
      "1  2  4  6  8\n"
     ]
    }
   ],
   "source": [
    "df1 = pd.DataFrame({\n",
    "    'A': [1, 2],\n",
    "    'B': [3, 4]\n",
    "})\n",
    "\n",
    "df2 = pd.DataFrame({\n",
    "    'C': [5, 6],\n",
    "    'D': [7, 8]\n",
    "})\n",
    "\n",
    "df_concat = pd.concat([df1, df2], axis=1)\n",
    "print(df_concat)\n"
   ]
  },
  {
   "cell_type": "code",
   "execution_count": 90,
   "metadata": {},
   "outputs": [
    {
     "name": "stdout",
     "output_type": "stream",
     "text": [
      "     A  B    C\n",
      "0  1.0  3  NaN\n",
      "1  2.0  4  NaN\n",
      "2  NaN  5  7.0\n",
      "3  NaN  6  8.0\n"
     ]
    }
   ],
   "source": [
    "df1 = pd.DataFrame({\n",
    "    'A': [1, 2],\n",
    "    'B': [3, 4]\n",
    "})\n",
    "\n",
    "df2 = pd.DataFrame({\n",
    "    'B': [5, 6],\n",
    "    'C': [7, 8]\n",
    "})\n",
    "\n",
    "df_concat = pd.concat([df1, df2], axis=0, ignore_index=True)\n",
    "print(df_concat)\n"
   ]
  },
  {
   "cell_type": "markdown",
   "metadata": {},
   "source": [
    "### ***Excercise***"
   ]
  },
  {
   "cell_type": "code",
   "execution_count": 1,
   "metadata": {},
   "outputs": [
    {
     "name": "stdout",
     "output_type": "stream",
     "text": [
      "0     5\n",
      "1    15\n",
      "2    25\n",
      "3    35\n",
      "4    45\n",
      "5    55\n",
      "dtype: int64\n"
     ]
    }
   ],
   "source": [
    "import pandas as pd \n",
    "\n",
    "df = pd.Series([5,15,25,35,45,55])\n",
    "print(df)\n"
   ]
  },
  {
   "cell_type": "code",
   "execution_count": 2,
   "metadata": {},
   "outputs": [
    {
     "name": "stdout",
     "output_type": "stream",
     "text": [
      "0    10\n",
      "1    20\n",
      "2    30\n",
      "3    40\n",
      "4    50\n",
      "5    60\n",
      "dtype: int64\n"
     ]
    }
   ],
   "source": [
    "df1 = pd.Series([10,20,30,40,50,60])\n",
    "print(df1)"
   ]
  },
  {
   "cell_type": "code",
   "execution_count": 4,
   "metadata": {},
   "outputs": [
    {
     "name": "stdout",
     "output_type": "stream",
     "text": [
      "25\n"
     ]
    }
   ],
   "source": [
    "print(df.loc[2])"
   ]
  },
  {
   "cell_type": "code",
   "execution_count": 11,
   "metadata": {},
   "outputs": [
    {
     "name": "stdout",
     "output_type": "stream",
     "text": [
      "   Column1  Column2\n",
      "0        5       10\n",
      "1       15       20\n",
      "2       25       30\n",
      "3       35       40\n",
      "4       45       50\n",
      "5       55       60\n"
     ]
    }
   ],
   "source": [
    "df2 = pd.DataFrame({\"Column1\": df, \"Column2\": df1})\n",
    "print(df2)"
   ]
  },
  {
   "cell_type": "code",
   "execution_count": null,
   "metadata": {},
   "outputs": [],
   "source": [
    "axis = df.loc[1,\"Column1\"]\n",
    "print(axis)"
   ]
  },
  {
   "cell_type": "code",
   "execution_count": 15,
   "metadata": {},
   "outputs": [
    {
     "name": "stdout",
     "output_type": "stream",
     "text": [
      "Sum of all items in column 'ten': 170\n",
      "\n",
      "All fruits in the DataFrame:\n",
      "['apple', 'orange', 'banana', 'melon', 'pineapple']\n",
      "count     5.000000\n",
      "mean     34.000000\n",
      "std      20.736441\n",
      "min      10.000000\n",
      "25%      20.000000\n",
      "50%      30.000000\n",
      "75%      50.000000\n",
      "max      60.000000\n",
      "Name: ten, dtype: float64\n"
     ]
    }
   ],
   "source": [
    "import pandas as pd\n",
    "\n",
    "data = {\n",
    "    \"four\": [\"blue\", \"red\", \"green\", \"white\", \"black\"],\n",
    "    \"one\": [\"a\", \"b\", \"c\", \"e\", \"f\"],\n",
    "    \"three\": [\"apple\", \"orange\", \"banana\", \"melon\", \"pineapple\"],\n",
    "    \"two\": [\"l\", \"m\", \"n\", \"p\", \"q\"],\n",
    "    \"ten\": [10, 20, 30, 50, 60]\n",
    "}\n",
    "\n",
    "df = pd.DataFrame(data)\n",
    "\n",
    "sum_of_ten = df[\"ten\"].sum()\n",
    "print(\"Sum of all items in column 'ten':\", sum_of_ten)\n",
    "\n",
    "fruits = df[\"three\"].tolist()\n",
    "print(\"\\nAll fruits in the DataFrame:\")\n",
    "print(fruits)\n",
    "\n",
    "column_ten_description = df[\"ten\"].describe()\n",
    "print(column_ten_description)"
   ]
  }
 ],
 "metadata": {
  "kernelspec": {
   "display_name": "Python 3",
   "language": "python",
   "name": "python3"
  },
  "language_info": {
   "codemirror_mode": {
    "name": "ipython",
    "version": 3
   },
   "file_extension": ".py",
   "mimetype": "text/x-python",
   "name": "python",
   "nbconvert_exporter": "python",
   "pygments_lexer": "ipython3",
   "version": "3.12.8"
  }
 },
 "nbformat": 4,
 "nbformat_minor": 2
}
